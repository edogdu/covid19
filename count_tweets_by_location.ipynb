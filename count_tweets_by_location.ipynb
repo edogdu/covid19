{
 "cells": [
  {
   "cell_type": "code",
   "execution_count": 26,
   "metadata": {},
   "outputs": [],
   "source": [
    "import json\n",
    "import os,glob"
   ]
  },
  {
   "cell_type": "code",
   "execution_count": 27,
   "metadata": {},
   "outputs": [],
   "source": [
    "folder_path = 'D:\\\\COVID-19-TweetIDs\\\\2020-01\\\\New folder\\\\22'"
   ]
  },
  {
   "cell_type": "code",
   "execution_count": 28,
   "metadata": {},
   "outputs": [],
   "source": [
    "location = []\n",
    "for filename in glob.glob(os.path.join(folder_path, '*.jsonl')):\n",
    "    fhand = open(filename, 'r',encoding=\"utf8\")\n",
    "    for line in fhand:\n",
    "        tweet = json.loads(line)\n",
    "        try:\n",
    "            location.append(tweet['user']['location'])\n",
    "        except:\n",
    "            continue"
   ]
  },
  {
   "cell_type": "code",
   "execution_count": 29,
   "metadata": {},
   "outputs": [],
   "source": [
    "import geonamescache\n",
    "gc = geonamescache.GeonamesCache()"
   ]
  },
  {
   "cell_type": "code",
   "execution_count": 30,
   "metadata": {},
   "outputs": [],
   "source": [
    "#create a list geolocation of 180 elements type(dict) in the form city_code:[list of info]\n",
    "user_number = 0\n",
    "geolocation= []\n",
    "for i in location:\n",
    "    cities = i.split(\",\")[0].title() #use.title to make cities like hong kong to Hong Kong\n",
    "    user_number+=1\n",
    "    ct = gc.get_cities_by_name(cities)\n",
    "    if(ct!= []):\n",
    "        geolocation.append(ct[0]) #some get_cities_by_name returns 2 or 3 cities so we just get the first result"
   ]
  },
  {
   "cell_type": "code",
   "execution_count": 31,
   "metadata": {},
   "outputs": [
    {
     "data": {
      "text/plain": [
       "180"
      ]
     },
     "execution_count": 31,
     "metadata": {},
     "output_type": "execute_result"
    }
   ],
   "source": [
    "#create a citystatecountry that is a list of 180 locations, each has 3 elements: name, admin1code(state), country.\n",
    "citystatecountry=[]\n",
    "#create a listkey of citycodes len = 180\n",
    "listkey=[]\n",
    "for i in geolocation:\n",
    "    key = list(i.keys())[0]\n",
    "    listkey.append(key)\n",
    "len(listkey)#this is the list with repeated codes."
   ]
  },
  {
   "cell_type": "code",
   "execution_count": 32,
   "metadata": {},
   "outputs": [
    {
     "name": "stdout",
     "output_type": "stream",
     "text": [
      "122\n"
     ]
    }
   ],
   "source": [
    "#count tweet using count, and get rid of repeated codes\n",
    "#create the dictionary citycode: number_of_tweet. citycode = different citycodes. number_of_tweet = count. len=122\n",
    "tweet_count = {i:listkey.count(i) for i in listkey}\n",
    "print(len(tweet_count))"
   ]
  },
  {
   "cell_type": "code",
   "execution_count": 33,
   "metadata": {},
   "outputs": [],
   "source": [
    "#write lists of location\n",
    "abc = []#abc get rid of repeated locations from the geolocation\n",
    "for i in geolocation:\n",
    "    if(i not in abc):\n",
    "        abc.append(i)\n",
    "#print(abc)"
   ]
  },
  {
   "cell_type": "code",
   "execution_count": 34,
   "metadata": {},
   "outputs": [],
   "source": [
    "#create different lists of city, states and country based on abc\n",
    "keylist = []\n",
    "a = []\n",
    "city = []\n",
    "state = []\n",
    "country = []\n",
    "for i in abc:\n",
    "    key = list(i.keys())[0]#the geonamescache returns several results for every input, so we get just the first result.\n",
    "    keylist.append(key)\n",
    "    infocity = i.get(key)\n",
    "    name = infocity.get('name')\n",
    "    city.append(name)\n",
    "    state1 = infocity.get('admin1code')\n",
    "    state.append(state1)\n",
    "    country1 = infocity.get('countrycode')\n",
    "    country.append(country1)"
   ]
  },
  {
   "cell_type": "code",
   "execution_count": 35,
   "metadata": {},
   "outputs": [],
   "source": [
    "#create a csv file based on dictionary tweet_count\n",
    "import csv\n",
    "with open('test.csv', 'w') as f:\n",
    "    for key in tweet_count.keys():\n",
    "        f.write(\"%s,%s\\n\"%(key,tweet_count[key]))"
   ]
  },
  {
   "cell_type": "code",
   "execution_count": 36,
   "metadata": {},
   "outputs": [],
   "source": [
    "#create a dictionary. key = citycode, value = lists of location. Zip them up\n",
    "new_dict = {i: [j,k,l] for i,j,k,l in zip(keylist,city,country,state)}"
   ]
  },
  {
   "cell_type": "code",
   "execution_count": 37,
   "metadata": {},
   "outputs": [],
   "source": [
    "#write the dictionary above to a csv file \n",
    "with open('location.csv', 'w') as f:\n",
    "    for key in new_dict.keys():\n",
    "        f.write(\"%s,%s\\n\"%(key,new_dict[key]))"
   ]
  },
  {
   "cell_type": "code",
   "execution_count": 40,
   "metadata": {},
   "outputs": [],
   "source": [
    "#merge the two csv files based on the key using pandas\n",
    "import pandas as pd\n",
    "a = pd.read_csv(\"location.csv\", encoding = \"ISO-8859-1\") #utf8 encoding problem so I have to add ISO\n",
    "b = pd.read_csv(\"test.csv\", encoding = \"ISO-8859-1\")\n",
    "b = b.dropna(axis=1)\n",
    "merged = a.merge(b)\n",
    "merged.to_csv(\"test1.csv\", index=False)"
   ]
  },
  {
   "cell_type": "code",
   "execution_count": 41,
   "metadata": {},
   "outputs": [],
   "source": [
    "#edit the file to add headings and get rid of \n",
    "s = open('test1.csv','r').read()\n",
    "chars = ('[',']') # etc\n",
    "for c in chars:\n",
    "  s = ''.join( s.split(c) )\n",
    "\n",
    "out_file = open('test2.csv','w')\n",
    "fields= u'city_code,city,country,state,tweet_count'\n",
    "out_file.write(fields)\n",
    "out_file.write(u'\\n')\n",
    "out_file.write(s)\n",
    "out_file.close()"
   ]
  },
  {
   "cell_type": "code",
   "execution_count": 47,
   "metadata": {},
   "outputs": [
    {
     "name": "stdout",
     "output_type": "stream",
     "text": [
      "city_code,city,country,state,tweet_count\n",
      "2634715,'Washington',, 'GB',, 'ENG',5\n",
      "4180439,'Atlanta',, 'US',, 'GA',6\n",
      "5380184,'Oxnard',, 'US',, 'CA',1\n",
      "4364946,'Parkville',, 'US',, 'MD',1\n",
      "4887398,'Chicago',, 'US',, 'IL',7\n",
      "5037649,'Minneapolis',, 'US',, 'MN',1\n",
      "2641598,'Newport',, 'GB',, 'WLS',1\n",
      "5574991,'Boulder',, 'US',, 'CO',1\n",
      "2650628,'Durham',, 'GB',, 'ENG',1\n",
      "6183235,'Winnipeg',, 'CA',, '03',2\n",
      "4012176,'CuliacÃ¡n',, 'MX',, '25',1\n",
      "2643123,'Manchester',, 'GB',, 'ENG',1\n",
      "6167865,'Toronto',, 'CA',, '08',4\n",
      "4633419,'Johnson, City',, 'US',, 'TN',1\n",
      "4720131,'Portland',, 'US',, 'TX',1\n",
      "2655603,'Birmingham',, 'GB',, 'ENG',1\n",
      "1850147,'Tokyo',, 'JP',, '40',1\n",
      "4641239,'Memphis',, 'US',, 'TN',2\n",
      "4259418,'Indianapolis',, 'US',, 'IN',1\n",
      "5379439,'Ontario',, 'US',, 'CA',5\n",
      "633679,'Turku',, 'FI',, '02',1\n",
      "729114,'Montana',, 'BG',, '47',1\n",
      "3654667,'Loja',, 'EC',, '12',1\n",
      "943882,'Virginia',, 'ZA',, '03',1\n",
      "3682393,'Florida',, 'CO',, '29',4\n",
      "3675707,'Madrid',, 'CO',, '33',1\n",
      "3429732,'Puerto, Rico',, 'AR',, '14',2\n",
      "3471872,'Aracaju',, 'BR',, '28',1\n",
      "5506956,'Las, Vegas',, 'US',, 'NV',1\n",
      "5475352,'Las, Cruces',, 'US',, 'NM',1\n",
      "4893591,'Geneva',, 'US',, 'IL',1\n",
      "4562831,'BayamÃ³n',, 'PR',, '021',1\n",
      "4699066,'Houston',, 'US',, 'TX',2\n",
      "4684888,'Dallas',, 'US',, 'TX',1\n",
      "4480125,'Mooresville',, 'US',, 'NC',1\n",
      "2655138,'Boston',, 'GB',, 'ENG',2\n",
      "4048662,'Paducah',, 'US',, 'KY',1\n",
      "1880252,'Singapore',, 'SG',, '01',2\n",
      "5128581,'New, York, City',, 'US',, 'NY',1\n",
      "4260210,'Lawrence',, 'US',, 'IN',1\n",
      "4614748,'Collierville',, 'US',, 'TN',1\n",
      "6173331,'Vancouver',, 'CA',, '02',1\n",
      "4188985,'Columbus',, 'US',, 'GA',1\n",
      "4531405,'Broken, Arrow',, 'US',, 'OK',1\n",
      "5809844,'Seattle',, 'US',, 'WA',4\n",
      "6182962,'Windsor',, 'CA',, '08',1\n",
      "3837213,'San, Juan',, 'AR',, '18',1\n",
      "4367175,'Rockville',, 'US',, 'MD',2\n",
      "4274994,'Manhattan',, 'US',, 'KS',1\n",
      "5419384,'Denver',, 'US',, 'CO',4\n",
      "4569298,'Anderson',, 'US',, 'SC',1\n",
      "1819729,'Hong, Kong',, 'HK',, 'HCW',11\n",
      "5308655,'Phoenix',, 'US',, 'AZ',1\n",
      "6090785,'North, Vancouver',, 'CA',, '02',1\n",
      "5157588,'Hilliard',, 'US',, 'OH',1\n",
      "2174003,'Brisbane',, 'AU',, '04',1\n",
      "2063523,'Perth',, 'AU',, '08',1\n",
      "4174715,'Tallahassee',, 'US',, 'FL',1\n",
      "4443296,'Ridgeland',, 'US',, 'MS',1\n",
      "2523920,'Palermo',, 'IT',, '15',1\n",
      "6092122,'Oakville',, 'CA',, '08',1\n",
      "3837675,'San, Francisco',, 'AR',, '05',1\n",
      "1835848,'Seoul',, 'KR',, '11',1\n",
      "5913490,'Calgary',, 'CA',, '01',2\n",
      "3389673,'Santa, Cruz',, 'BR',, '22',1\n",
      "2158177,'Melbourne',, 'AU',, '07',3\n",
      "3531732,'Campeche',, 'MX',, '04',1\n",
      "4916311,'Wheeling',, 'US',, 'IL',1\n",
      "4994358,'Grand, Rapids',, 'US',, 'MI',1\n",
      "2295021,'Sunyani',, 'GH',, '13',1\n",
      "3432079,'La, Paz',, 'AR',, '08',1\n",
      "5368361,'Los, Angeles',, 'US',, 'CA',1\n",
      "5063805,'Bellevue',, 'US',, 'NE',1\n",
      "4522586,'Riverside',, 'US',, 'OH',1\n",
      "3435910,'Buenos, Aires',, 'AR',, '07',1\n",
      "1275339,'Mumbai',, 'IN',, '16',2\n",
      "4914570,'Urbana',, 'US',, 'IL',1\n",
      "4933002,'Chicopee',, 'US',, 'MA',1\n",
      "264371,'Athens',, 'GR',, 'ESYE31',1\n",
      "2633352,'York',, 'GB',, 'ENG',2\n",
      "5525577,'Lubbock',, 'US',, 'TX',1\n",
      "4434069,'Long, Beach',, 'US',, 'MS',1\n",
      "2147714,'Sydney',, 'AU',, '02',2\n",
      "2166952,'Fairfield',, 'AU',, '02',1\n",
      "1734759,'Malacca',, 'MY',, '04',1\n",
      "5165734,'Oregon',, 'US',, 'OH',1\n",
      "287286,'Muscat',, 'OM',, '06',1\n",
      "3465881,'Colorado',, 'BR',, '18',1\n",
      "4074267,'Madison',, 'US',, 'AL',1\n",
      "184745,'Nairobi',, 'KE',, '05',1\n",
      "4544349,'Oklahoma, City',, 'US',, 'OK',1\n",
      "2078025,'Adelaide',, 'AU',, '05',1\n",
      "2639268,'Rochester',, 'GB',, 'ENG',1\n",
      "1279233,'Ahmedabad',, 'IN',, '09',1\n",
      "4614088,'Cleveland',, 'US',, 'TN',2\n",
      "5164706,'North, Canton',, 'US',, 'OH',1\n",
      "3456166,'Nova, Friburgo',, 'BR',, '21',1\n",
      "4174757,'Tampa',, 'US',, 'FL',1\n",
      "2988507,'Paris',, 'FR',, '11',2\n",
      "4943629,'Medford',, 'US',, 'MA',1\n",
      "1650357,'Bandung',, 'ID',, '30',1\n",
      "4186213,'Canton',, 'US',, 'GA',1\n",
      "2332459,'Lagos',, 'NG',, '05',2\n",
      "658225,'Helsinki',, 'FI',, '01',1\n",
      "3529947,'Cuernavaca',, 'MX',, '17',1\n",
      "3621926,'San, Diego',, 'CR',, '02',1\n",
      "2759794,'Amsterdam',, 'NL',, '07',1\n",
      "5811696,'Spokane',, 'US',, 'WA',1\n",
      "5383527,'Placentia',, 'US',, 'CA',1\n",
      "4509884,'Dayton',, 'US',, 'OH',1\n",
      "6058560,'London',, 'CA',, '08',1\n",
      "5856195,'Honolulu',, 'US',, 'HI',1\n",
      "292968,'Abu, Dhabi',, 'AE',, '01',1\n",
      "4153471,'Doral',, 'US',, 'FL',1\n",
      "4299276,'Louisville',, 'US',, 'KY',1\n",
      "2950159,'Berlin',, 'DE',, '16',2\n",
      "4166673,'Ocala',, 'US',, 'FL',1\n",
      "4250542,'Springfield',, 'US',, 'IL',1\n",
      "4543762,'Norman',, 'US',, 'OK',1\n",
      "745044,'Istanbul',, 'TR',, '34',1\n",
      "5327684,'Berkeley',, 'US',, 'CA',1\n",
      "232422,'Kampala',, 'UG',, 'C',1\n"
     ]
    }
   ],
   "source": [
    "#read the result file\n",
    "with open('test2.csv', newline='') as csvfile:\n",
    "    reader = csv.reader(csvfile, delimiter=' ', quotechar='|')\n",
    "    for row in reader:\n",
    "        print(', '.join(row))"
   ]
  },
  {
   "cell_type": "code",
   "execution_count": null,
   "metadata": {},
   "outputs": [],
   "source": []
  }
 ],
 "metadata": {
  "kernelspec": {
   "display_name": "Python 3",
   "language": "python",
   "name": "python3"
  },
  "language_info": {
   "codemirror_mode": {
    "name": "ipython",
    "version": 3
   },
   "file_extension": ".py",
   "mimetype": "text/x-python",
   "name": "python",
   "nbconvert_exporter": "python",
   "pygments_lexer": "ipython3",
   "version": "3.7.6"
  }
 },
 "nbformat": 4,
 "nbformat_minor": 4
}
