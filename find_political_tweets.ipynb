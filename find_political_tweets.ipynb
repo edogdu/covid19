{
 "cells": [
  {
   "cell_type": "code",
   "execution_count": 1,
   "metadata": {},
   "outputs": [],
   "source": [
    "import json"
   ]
  },
  {
   "cell_type": "code",
   "execution_count": 2,
   "metadata": {},
   "outputs": [],
   "source": [
    "import csv #read the excel file\n",
    "import io\n",
    "import glob\n",
    "import os"
   ]
  },
  {
   "cell_type": "code",
   "execution_count": 3,
   "metadata": {
    "scrolled": true
   },
   "outputs": [],
   "source": [
    "def extract_json(fileobj):\n",
    "    #Iterating over an open jsonl file and yields decoded lines. Closing the file once it has been read completely.\n",
    "    with fileobj:\n",
    "        for line in fileobj:\n",
    "            yield json.loads(line) #deserialize string of JSON formatted\n",
    "os.chdir(\"C:\\\\Users\\\\huyge\\\\Downloads\\\\pythondatatest\") #change the current working directory to specified path (file has json files on laptop)"
   ]
  },
  {
   "cell_type": "code",
   "execution_count": 4,
   "metadata": {},
   "outputs": [],
   "source": [
    "#output csv\n",
    "for file in glob.glob(\"*.jsonl\"):\n",
    "    data_json = io.open(file, mode='r', encoding='utf-8-sig') # Opens in the JSONL file\n",
    "    data_python = extract_json(data_json)\n",
    "\n",
    "    csv_out = io.open('tweets_out_utf8.csv', mode='w', encoding='utf-8-sig') #opens csv file\n",
    "\n",
    "\n",
    "    fields = u'created_at,location,full_text,screen_name,followers,friends,rt,fav' #field names\n",
    "    csv_out.write(fields)\n",
    "    csv_out.write(u'\\n')\n",
    "\n",
    "    for line in data_python:\n",
    "\n",
    "        #writes a row and gets the fields from the json object\n",
    "        #screen_name and followers/friends are found on the second level hence two get methods\n",
    "       \n",
    "\n",
    "        row = [line.get('created_at'), str(line.get('user').get('location')),\n",
    "               '\"' + line.get('full_text').replace('\"','\"\"') + '\"', #creates double quotes\n",
    "               line.get('user').get('screen_name'),\n",
    "               str(line.get('user').get('followers_count')),\n",
    "               str(line.get('user').get('friends_count')),\n",
    "               str(line.get('retweet_count')),\n",
    "               str(line.get('favorite_count'))]\n",
    "\n",
    "        row_joined = u','.join(row)\n",
    "        csv_out.write(row_joined)\n",
    "        csv_out.write(u'\\n')\n",
    "\n",
    "csv_out.close()"
   ]
  },
  {
   "cell_type": "code",
   "execution_count": 5,
   "metadata": {},
   "outputs": [
    {
     "name": "stdout",
     "output_type": "stream",
     "text": [
      "Keyword found in: 101 tweets.\n"
     ]
    }
   ],
   "source": [
    "#get keyword\n",
    "countTweet = 0\n",
    "for file in glob.glob(\"*.jsonl\"):\n",
    "    data_json = io.open(file, mode='r', encoding='utf-8-sig') # Opens in the JSONL file\n",
    "    data_python = extract_json(data_json)\n",
    "\n",
    "    for line in data_python:\n",
    "        text = str(line.get('full_text'))\n",
    "        if (text.find('trump') != -1):\n",
    "            countTweet += 1\n",
    "            continue\n",
    "        if (text.find('biden') != -1):\n",
    "            countTweet += 1\n",
    "            continue\n",
    "        if (text.find('democrat') != -1):\n",
    "            countTweet += 1\n",
    "            continue\n",
    "        if (text.find('election') != -1):\n",
    "            countTweet += 1\n",
    "            continue\n",
    "        if (text.find('republican') != -1):\n",
    "            countTweet += 1\n",
    "            continue\n",
    "\n",
    "print ('Keyword found in:', countTweet, 'tweets.')\n"
   ]
  },
  {
   "cell_type": "code",
   "execution_count": null,
   "metadata": {},
   "outputs": [],
   "source": []
  },
  {
   "cell_type": "code",
   "execution_count": null,
   "metadata": {},
   "outputs": [],
   "source": []
  },
  {
   "cell_type": "code",
   "execution_count": null,
   "metadata": {},
   "outputs": [],
   "source": []
  },
  {
   "cell_type": "code",
   "execution_count": null,
   "metadata": {},
   "outputs": [],
   "source": []
  }
 ],
 "metadata": {
  "kernelspec": {
   "display_name": "Python 3",
   "language": "python",
   "name": "python3"
  },
  "language_info": {
   "codemirror_mode": {
    "name": "ipython",
    "version": 3
   },
   "file_extension": ".py",
   "mimetype": "text/x-python",
   "name": "python",
   "nbconvert_exporter": "python",
   "pygments_lexer": "ipython3",
   "version": "3.8.3"
  }
 },
 "nbformat": 4,
 "nbformat_minor": 4
}
